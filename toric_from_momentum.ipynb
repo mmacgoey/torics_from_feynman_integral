{
 "cells": [
  {
   "cell_type": "markdown",
   "id": "1443e416",
   "metadata": {},
   "source": [
    "# Derive the toric equations from the momentum representation"
   ]
  },
  {
   "cell_type": "code",
   "execution_count": 1,
   "id": "d5d87252",
   "metadata": {},
   "outputs": [],
   "source": [
    "from sympy import *\n",
    "import numpy as np\n",
    "import matplotlib.pyplot as plt\n",
    "from itertools import combinations"
   ]
  },
  {
   "cell_type": "code",
   "execution_count": 2,
   "id": "e8f5c20a",
   "metadata": {},
   "outputs": [
    {
     "data": {
      "text/latex": [
       "$\\displaystyle \\int \\left(k^{2} + m_{3}^{2}\\right)^{- \\nu_{1}} \\left(m_{1}^{2} + \\left(k + p_{2}\\right)^{2}\\right)^{- \\nu_{3}} \\left(m_{2}^{2} + \\left(k - p_{1}\\right)^{2}\\right)^{- \\nu_{2}}\\, dk$"
      ],
      "text/plain": [
       "Integral(1/((k**2 + m3**2)**nu1*(m1**2 + (k + p2)**2)**nu3*(m2**2 + (k - p1)**2)**nu2), k)"
      ]
     },
     "execution_count": 2,
     "metadata": {},
     "output_type": "execute_result"
    }
   ],
   "source": [
    "# change variables manually depending on the problem\n",
    "\n",
    "k, p, p1, p2, m, m1, m2, m3, nu1, nu2, nu3 = symbols(\"k, p, p1, p2, m, m1, m2 , m3, nu1, nu2, nu3\")\n",
    "\n",
    "# change expression to integrand of feynman integral in (post wick-transform) momentum space\n",
    "\n",
    "f_momentum = (1/(k**2 + m3**2)**nu1) * (1/((k - p1)**2 + m2**2)**nu2) * (1/((k + p2)**2 + m1**2)**nu3) # massive triangle\n",
    "\n",
    "Integral(f_momentum, k)"
   ]
  },
  {
   "cell_type": "code",
   "execution_count": 3,
   "id": "9ae244a3",
   "metadata": {},
   "outputs": [
    {
     "name": "stdout",
     "output_type": "stream",
     "text": [
      "⌠ ⌠ ⌠ ⌠                                                                        ↪\n",
      "⎮ ⎮ ⎮ ⎮                                 ⎛ 2     2⎞      ⎛  2           2⎞      ↪\n",
      "⎮ ⎮ ⎮ ⎮   ν₁ - 1   ν₃ - 1   ν₂ - 1  -t₁⋅⎝k  + m₃ ⎠  -t₂⋅⎝m₁  + (k + p₂) ⎠  -t₃ ↪\n",
      "⎮ ⎮ ⎮ ⎮ t₁      ⋅t₂      ⋅t₃      ⋅ℯ              ⋅ℯ                     ⋅ℯ    ↪\n",
      "⌡ ⌡ ⌡ ⌡                                                                        ↪\n",
      "\n",
      "↪                                        \n",
      "↪  ⎛  2           2⎞                     \n",
      "↪ ⋅⎝m₂  + (k - p₁) ⎠                     \n",
      "↪                    dk d(t₁) d(t₂) d(t₃)\n",
      "↪                                        \n"
     ]
    }
   ],
   "source": [
    "f_schwinger = 1\n",
    "\n",
    "t = symbols(f\"t1:{len(f_momentum.args) + 1}\")\n",
    "\n",
    "for i, arg in enumerate(f_momentum.args):\n",
    "\n",
    "    exponents = 1\n",
    "\n",
    "    nu = arg.args[-1].args[-1] # specifically get nu\n",
    "    exponents *= arg.args[0]\n",
    "\n",
    "    f_schwinger *= t[i] ** (nu - 1) * exp(simplify(- exponents * t[i]))\n",
    "\n",
    "i_f_schwinger = Integral(f_schwinger, k)\n",
    "\n",
    "for t_i in t:\n",
    "    i_f_schwinger = Integral(i_f_schwinger, t_i)\n",
    "\n",
    "pprint(i_f_schwinger)"
   ]
  },
  {
   "cell_type": "markdown",
   "id": "6492b67a",
   "metadata": {},
   "source": [
    "focus on only the terms in the exponential which will form our $\\mathscr{U}$ and $\\mathscr{F}$ symanziks"
   ]
  },
  {
   "cell_type": "code",
   "execution_count": 4,
   "id": "ce4a62d2",
   "metadata": {},
   "outputs": [
    {
     "data": {
      "text/latex": [
       "$\\displaystyle k^{2} \\left(t_{1} + t_{2} + t_{3}\\right) + k \\left(- 2 p_{1} t_{3} + 2 p_{2} t_{2}\\right) + m_{1}^{2} t_{2} + m_{2}^{2} t_{3} + m_{3}^{2} t_{1} + p_{1}^{2} t_{3} + p_{2}^{2} t_{2}$"
      ],
      "text/plain": [
       "k**2*(t1 + t2 + t3) + k*(-2*p1*t3 + 2*p2*t2) + m1**2*t2 + m2**2*t3 + m3**2*t1 + p1**2*t3 + p2**2*t2"
      ]
     },
     "execution_count": 4,
     "metadata": {},
     "output_type": "execute_result"
    }
   ],
   "source": [
    "exp_args = [arg.args[0] for arg in f_schwinger.args if isinstance(arg, exp)]\n",
    "symanzik_wip = - sum(exp_args)\n",
    "symanzik_wip = collect(symanzik_wip.expand(), k)\n",
    "\n",
    "symanzik_wip"
   ]
  },
  {
   "cell_type": "code",
   "execution_count": 5,
   "id": "4a5f1d8f",
   "metadata": {},
   "outputs": [
    {
     "data": {
      "text/latex": [
       "$\\displaystyle t_{1} + t_{2} + t_{3}$"
      ],
      "text/plain": [
       "t1 + t2 + t3"
      ]
     },
     "execution_count": 5,
     "metadata": {},
     "output_type": "execute_result"
    }
   ],
   "source": [
    "U = symanzik_wip.coeff(k**2) # first symanzik polynomial\n",
    "\n",
    "U"
   ]
  },
  {
   "cell_type": "markdown",
   "id": "c37afe0a",
   "metadata": {},
   "source": [
    "complete the square\n",
    "\n",
    "$$ak^2 + bk + c = (k - A)^2 + B + c$$"
   ]
  },
  {
   "cell_type": "code",
   "execution_count": 6,
   "id": "b9a353b5",
   "metadata": {},
   "outputs": [
    {
     "data": {
      "text/latex": [
       "$\\displaystyle - \\frac{\\left(p_{1} t_{3} - p_{2} t_{2}\\right)^{2}}{t_{1} + t_{2} + t_{3}}$"
      ],
      "text/plain": [
       "-(p1*t3 - p2*t2)**2/(t1 + t2 + t3)"
      ]
     },
     "execution_count": 6,
     "metadata": {},
     "output_type": "execute_result"
    }
   ],
   "source": [
    "a = symanzik_wip.coeff(k**2)\n",
    "b = symanzik_wip.coeff(k)\n",
    "c = symanzik_wip.coeff(k, 0)\n",
    "\n",
    "A, B = symbols(\"A, B\")\n",
    "\n",
    "sol = solve(((k - A)**2 + B) - (a*k**2 + b*k), [A, B])\n",
    "\n",
    "A = sol[A] / U\n",
    "B = sol[B] / U\n",
    "\n",
    "B"
   ]
  },
  {
   "cell_type": "code",
   "execution_count": 7,
   "id": "125e0f23",
   "metadata": {},
   "outputs": [
    {
     "data": {
      "text/latex": [
       "$\\displaystyle m_{1}^{2} t_{1} t_{2} + m_{1}^{2} t_{2}^{2} + m_{1}^{2} t_{2} t_{3} + m_{2}^{2} t_{1} t_{3} + m_{2}^{2} t_{2} t_{3} + m_{2}^{2} t_{3}^{2} + m_{3}^{2} t_{1}^{2} + m_{3}^{2} t_{1} t_{2} + m_{3}^{2} t_{1} t_{3} + p_{1}^{2} t_{1} t_{3} + p_{1}^{2} t_{2} t_{3} + 2 p_{1} p_{2} t_{2} t_{3} + p_{2}^{2} t_{1} t_{2} + p_{2}^{2} t_{2} t_{3}$"
      ],
      "text/plain": [
       "m1**2*t1*t2 + m1**2*t2**2 + m1**2*t2*t3 + m2**2*t1*t3 + m2**2*t2*t3 + m2**2*t3**2 + m3**2*t1**2 + m3**2*t1*t2 + m3**2*t1*t3 + p1**2*t1*t3 + p1**2*t2*t3 + 2*p1*p2*t2*t3 + p2**2*t1*t2 + p2**2*t2*t3"
      ]
     },
     "execution_count": 7,
     "metadata": {},
     "output_type": "execute_result"
    }
   ],
   "source": [
    "F_wip = B + c\n",
    "\n",
    "F = factor(F_wip, 1/U) * U # second symanzik polynomial\n",
    "\n",
    "F"
   ]
  },
  {
   "cell_type": "markdown",
   "id": "c18717d5",
   "metadata": {},
   "source": [
    "$\\mathscr{G}$ is the sum of the first and second Symanzik polynomials:\n",
    "\n",
    "$$\\mathscr{G} = \\mathscr{U} + \\mathscr{F}$$"
   ]
  },
  {
   "cell_type": "code",
   "execution_count": 8,
   "id": "0485e4d7",
   "metadata": {},
   "outputs": [
    {
     "data": {
      "text/latex": [
       "$\\displaystyle m_{1}^{2} t_{1} t_{2} + m_{1}^{2} t_{2}^{2} + m_{1}^{2} t_{2} t_{3} + m_{2}^{2} t_{1} t_{3} + m_{2}^{2} t_{2} t_{3} + m_{2}^{2} t_{3}^{2} + m_{3}^{2} t_{1}^{2} + m_{3}^{2} t_{1} t_{2} + m_{3}^{2} t_{1} t_{3} + p_{1}^{2} t_{1} t_{3} + p_{1}^{2} t_{2} t_{3} + 2 p_{1} p_{2} t_{2} t_{3} + p_{2}^{2} t_{1} t_{2} + p_{2}^{2} t_{2} t_{3} + t_{1} + t_{2} + t_{3}$"
      ],
      "text/plain": [
       "m1**2*t1*t2 + m1**2*t2**2 + m1**2*t2*t3 + m2**2*t1*t3 + m2**2*t2*t3 + m2**2*t3**2 + m3**2*t1**2 + m3**2*t1*t2 + m3**2*t1*t3 + p1**2*t1*t3 + p1**2*t2*t3 + 2*p1*p2*t2*t3 + p2**2*t1*t2 + p2**2*t2*t3 + t1 + t2 + t3"
      ]
     },
     "execution_count": 8,
     "metadata": {},
     "output_type": "execute_result"
    }
   ],
   "source": [
    "G = U + F\n",
    "\n",
    "G"
   ]
  },
  {
   "cell_type": "markdown",
   "id": "99168e94",
   "metadata": {},
   "source": [
    "collect like terms"
   ]
  },
  {
   "cell_type": "code",
   "execution_count": 9,
   "id": "838418e9",
   "metadata": {},
   "outputs": [
    {
     "data": {
      "text/latex": [
       "$\\displaystyle m_{1}^{2} t_{2}^{2} + m_{2}^{2} t_{3}^{2} + m_{3}^{2} t_{1}^{2} + t_{1} t_{2} \\left(m_{1}^{2} + m_{3}^{2} + p_{2}^{2}\\right) + t_{1} t_{3} \\left(m_{2}^{2} + m_{3}^{2} + p_{1}^{2}\\right) + t_{1} + t_{2} t_{3} \\left(m_{1}^{2} + m_{2}^{2} + p_{1}^{2} + 2 p_{1} p_{2} + p_{2}^{2}\\right) + t_{2} + t_{3}$"
      ],
      "text/plain": [
       "m1**2*t2**2 + m2**2*t3**2 + m3**2*t1**2 + t1*t2*(m1**2 + m3**2 + p2**2) + t1*t3*(m2**2 + m3**2 + p1**2) + t1 + t2*t3*(m1**2 + m2**2 + p1**2 + 2*p1*p2 + p2**2) + t2 + t3"
      ]
     },
     "execution_count": 9,
     "metadata": {},
     "output_type": "execute_result"
    }
   ],
   "source": [
    "for i, j in combinations(t, 2):\n",
    "    G = collect(G, i*j)\n",
    "\n",
    "G"
   ]
  },
  {
   "cell_type": "markdown",
   "id": "ac45d2d8",
   "metadata": {},
   "source": [
    "loop through terms of $\\mathscr{G}$ and store the degree of each t term in the A matrix"
   ]
  },
  {
   "cell_type": "code",
   "execution_count": 10,
   "id": "18e2ee99",
   "metadata": {},
   "outputs": [
    {
     "data": {
      "text/latex": [
       "$\\displaystyle \\left[\\begin{matrix}1 & 1 & 1 & 1 & 1 & 1 & 1 & 1 & 1\\\\1 & 0 & 0 & 0 & 0 & 2 & 1 & 1 & 0\\\\0 & 1 & 0 & 2 & 0 & 0 & 1 & 0 & 1\\\\0 & 0 & 1 & 0 & 2 & 0 & 0 & 1 & 1\\end{matrix}\\right]$"
      ],
      "text/plain": [
       "Matrix([\n",
       "[1, 1, 1, 1, 1, 1, 1, 1, 1],\n",
       "[1, 0, 0, 0, 0, 2, 1, 1, 0],\n",
       "[0, 1, 0, 2, 0, 0, 1, 0, 1],\n",
       "[0, 0, 1, 0, 2, 0, 0, 1, 1]])"
      ]
     },
     "execution_count": 10,
     "metadata": {},
     "output_type": "execute_result"
    }
   ],
   "source": [
    "A_np = np.zeros((len(t) + 1, len(G.args)), dtype = int) # have to use numpy array since sympy cant change \n",
    "                                                        # individual matrix entries once created\n",
    "\n",
    "for i, term in enumerate(G.args): \n",
    "    A_np[0][i] = 1\n",
    "    for j, tj in enumerate(t):\n",
    "        A_np[j + 1][i] = degree(term, tj)\n",
    "\n",
    "A = Matrix(A_np) # convert numpy array to sympy matrix\n",
    "\n",
    "A"
   ]
  },
  {
   "cell_type": "code",
   "execution_count": 11,
   "id": "d6f865fb",
   "metadata": {},
   "outputs": [
    {
     "data": {
      "text/plain": [
       "[Matrix([\n",
       " [ 0],\n",
       " [ 2],\n",
       " [-2],\n",
       " [-1],\n",
       " [ 1],\n",
       " [ 0],\n",
       " [ 0],\n",
       " [ 0],\n",
       " [ 0]]),\n",
       " Matrix([\n",
       " [-2],\n",
       " [ 2],\n",
       " [ 0],\n",
       " [-1],\n",
       " [ 0],\n",
       " [ 1],\n",
       " [ 0],\n",
       " [ 0],\n",
       " [ 0]]),\n",
       " Matrix([\n",
       " [-1],\n",
       " [ 1],\n",
       " [ 0],\n",
       " [-1],\n",
       " [ 0],\n",
       " [ 0],\n",
       " [ 1],\n",
       " [ 0],\n",
       " [ 0]]),\n",
       " Matrix([\n",
       " [-1],\n",
       " [ 2],\n",
       " [-1],\n",
       " [-1],\n",
       " [ 0],\n",
       " [ 0],\n",
       " [ 0],\n",
       " [ 1],\n",
       " [ 0]]),\n",
       " Matrix([\n",
       " [ 0],\n",
       " [ 1],\n",
       " [-1],\n",
       " [-1],\n",
       " [ 0],\n",
       " [ 0],\n",
       " [ 0],\n",
       " [ 0],\n",
       " [ 1]])]"
      ]
     },
     "execution_count": 11,
     "metadata": {},
     "output_type": "execute_result"
    }
   ],
   "source": [
    "kernel = A.nullspace()\n",
    "\n",
    "kernel"
   ]
  },
  {
   "cell_type": "markdown",
   "id": "1df05419",
   "metadata": {},
   "source": [
    "From the kernel vector(s) $\\mathbf{u}$, extract $\\mathbf{u_+}$ and $\\mathbf{u_-}$, which correspond to the positive and negative components of $\\mathbf{u}$. For every kernel vector, we then take the inner product of its decomposed vectors $\\mathbf{u^+}$ and $\\mathbf{u^-}$ with a partial derivative operator matrix\n",
    "\n",
    "The lattice ideal is generated by the binomials \n",
    "\n",
    "$$x^{u^+_i} - x^{u^-_i},\\quad i=1,...,r$$"
   ]
  },
  {
   "cell_type": "code",
   "execution_count": 12,
   "id": "e254a67c",
   "metadata": {},
   "outputs": [
    {
     "name": "stdout",
     "output_type": "stream",
     "text": [
      "    3                                                 3                        ↪\n",
      "   ∂                                                 ∂                         ↪\n",
      "────────(f(x₁, x₂, x₃, x₄, x₅, x₆, x₇, x₈, x₉)) - ────────(f(x₁, x₂, x₃, x₄, x ↪\n",
      "       2                                                 2                     ↪\n",
      "∂x₅ ∂x₂                                           ∂x₄ ∂x₃                      ↪\n",
      "\n",
      "↪                    \n",
      "↪                    \n",
      "↪ ₅, x₆, x₇, x₈, x₉))\n",
      "↪                    \n",
      "↪                    \n",
      "\n",
      "      3                                                 3                      ↪\n",
      "     ∂                                                 ∂                       ↪\n",
      "- ────────(f(x₁, x₂, x₃, x₄, x₅, x₆, x₇, x₈, x₉)) + ────────(f(x₁, x₂, x₃, x₄, ↪\n",
      "         2                                                 2                   ↪\n",
      "  ∂x₄ ∂x₁                                           ∂x₆ ∂x₂                    ↪\n",
      "\n",
      "↪                      \n",
      "↪                      \n",
      "↪  x₅, x₆, x₇, x₈, x₉))\n",
      "↪                      \n",
      "↪                      \n",
      "\n",
      "     2                                                2                        ↪\n",
      "    ∂                                                ∂                         ↪\n",
      "- ───────(f(x₁, x₂, x₃, x₄, x₅, x₆, x₇, x₈, x₉)) + ───────(f(x₁, x₂, x₃, x₄, x ↪\n",
      "  ∂x₄ ∂x₁                                          ∂x₇ ∂x₂                     ↪\n",
      "\n",
      "↪                    \n",
      "↪                    \n",
      "↪ ₅, x₆, x₇, x₈, x₉))\n",
      "↪                    \n",
      "\n",
      "    3                                                  3                       ↪\n",
      "   ∂                                                  ∂                        ↪\n",
      "────────(f(x₁, x₂, x₃, x₄, x₅, x₆, x₇, x₈, x₉)) - ───────────(f(x₁, x₂, x₃, x₄ ↪\n",
      "       2                                          ∂x₄ ∂x₃ ∂x₁                  ↪\n",
      "∂x₈ ∂x₂                                                                        ↪\n",
      "\n",
      "↪                       \n",
      "↪                       \n",
      "↪ , x₅, x₆, x₇, x₈, x₉))\n",
      "↪                       \n",
      "↪                       \n",
      "\n",
      "   2                                                2                          ↪\n",
      "  ∂                                                ∂                           ↪\n",
      "───────(f(x₁, x₂, x₃, x₄, x₅, x₆, x₇, x₈, x₉)) - ───────(f(x₁, x₂, x₃, x₄, x₅, ↪\n",
      "∂x₉ ∂x₂                                          ∂x₄ ∂x₃                       ↪\n",
      "\n",
      "↪                  \n",
      "↪                  \n",
      "↪  x₆, x₇, x₈, x₉))\n",
      "↪                  \n",
      "\n"
     ]
    }
   ],
   "source": [
    "x = symbols(f\"x1:{len(kernel[0]) + 1}\")\n",
    "\n",
    "if len(kernel) != 0:\n",
    "\n",
    "    I = Function(\"f\")(*x)\n",
    "\n",
    "    for i, vec in enumerate(kernel):\n",
    "\n",
    "        u_plus = I\n",
    "        u_minus = I\n",
    "\n",
    "        for i in range(len(vec)):\n",
    "            \n",
    "            for _ in range(abs(vec[i])):\n",
    "                if vec[i] >= 1:\n",
    "                    u_plus = Derivative(u_plus, x[i], evaluate = False)\n",
    "                elif vec[i] <= -1:\n",
    "                    u_minus = Derivative(u_minus, x[i], evaluate = False)\n",
    "        \n",
    "        pprint(u_plus - u_minus)\n",
    "        print()\n",
    "\n",
    "else: print(\"kernel contains only zero vector!\")\n"
   ]
  }
 ],
 "metadata": {
  "kernelspec": {
   "display_name": "Python 3",
   "language": "python",
   "name": "python3"
  },
  "language_info": {
   "codemirror_mode": {
    "name": "ipython",
    "version": 3
   },
   "file_extension": ".py",
   "mimetype": "text/x-python",
   "name": "python",
   "nbconvert_exporter": "python",
   "pygments_lexer": "ipython3",
   "version": "3.13.7"
  }
 },
 "nbformat": 4,
 "nbformat_minor": 5
}
